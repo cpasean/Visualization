{
 "cells": [
  {
   "cell_type": "markdown",
   "metadata": {},
   "source": [
    "Three main non-positional encodings stand out: shape, size, and color. For Matplotlib and Seaborn, color is the easiest of these three encodings to apply for a third variable. Color can be used to encode both qualitative and quantitative data, with different types of color palettes used for different use cases. Because of how broadly color can be used, a dedicated discussion of color and its use in Matplotlib and Seaborn will be deferred to the next page in the lesson."
   ]
  },
  {
   "cell_type": "code",
   "execution_count": 1,
   "metadata": {},
   "outputs": [],
   "source": [
    "import numpy as np\n",
    "import pandas as pd\n",
    "import matplotlib.pyplot as plt\n",
    "import seaborn as sb\n",
    "\n",
    "%matplotlib inline"
   ]
  },
  {
   "cell_type": "code",
   "execution_count": 2,
   "metadata": {
    "scrolled": true
   },
   "outputs": [],
   "source": [
    "fuel_econ = pd.read_csv('fuel_econ.csv')\n",
    "fuel_econ['trans_type'] = fuel_econ['trans'].apply(lambda x: x.split()[0])"
   ]
  },
  {
   "cell_type": "code",
   "execution_count": 3,
   "metadata": {},
   "outputs": [
    {
     "name": "stdout",
     "output_type": "stream",
     "text": [
      "(3929, 21)\n"
     ]
    },
    {
     "data": {
      "text/html": [
       "<div>\n",
       "<style scoped>\n",
       "    .dataframe tbody tr th:only-of-type {\n",
       "        vertical-align: middle;\n",
       "    }\n",
       "\n",
       "    .dataframe tbody tr th {\n",
       "        vertical-align: top;\n",
       "    }\n",
       "\n",
       "    .dataframe thead th {\n",
       "        text-align: right;\n",
       "    }\n",
       "</style>\n",
       "<table border=\"1\" class=\"dataframe\">\n",
       "  <thead>\n",
       "    <tr style=\"text-align: right;\">\n",
       "      <th></th>\n",
       "      <th>id</th>\n",
       "      <th>make</th>\n",
       "      <th>model</th>\n",
       "      <th>year</th>\n",
       "      <th>VClass</th>\n",
       "      <th>drive</th>\n",
       "      <th>trans</th>\n",
       "      <th>fuelType</th>\n",
       "      <th>cylinders</th>\n",
       "      <th>displ</th>\n",
       "      <th>...</th>\n",
       "      <th>pv4</th>\n",
       "      <th>city</th>\n",
       "      <th>UCity</th>\n",
       "      <th>highway</th>\n",
       "      <th>UHighway</th>\n",
       "      <th>comb</th>\n",
       "      <th>co2</th>\n",
       "      <th>feScore</th>\n",
       "      <th>ghgScore</th>\n",
       "      <th>trans_type</th>\n",
       "    </tr>\n",
       "  </thead>\n",
       "  <tbody>\n",
       "    <tr>\n",
       "      <th>0</th>\n",
       "      <td>32204</td>\n",
       "      <td>Nissan</td>\n",
       "      <td>GT-R</td>\n",
       "      <td>2013</td>\n",
       "      <td>Subcompact Cars</td>\n",
       "      <td>All-Wheel Drive</td>\n",
       "      <td>Automatic (AM6)</td>\n",
       "      <td>Premium Gasoline</td>\n",
       "      <td>6</td>\n",
       "      <td>3.8</td>\n",
       "      <td>...</td>\n",
       "      <td>0</td>\n",
       "      <td>16.4596</td>\n",
       "      <td>20.2988</td>\n",
       "      <td>22.5568</td>\n",
       "      <td>30.1798</td>\n",
       "      <td>18.7389</td>\n",
       "      <td>471</td>\n",
       "      <td>4</td>\n",
       "      <td>4</td>\n",
       "      <td>Automatic</td>\n",
       "    </tr>\n",
       "    <tr>\n",
       "      <th>1</th>\n",
       "      <td>32205</td>\n",
       "      <td>Volkswagen</td>\n",
       "      <td>CC</td>\n",
       "      <td>2013</td>\n",
       "      <td>Compact Cars</td>\n",
       "      <td>Front-Wheel Drive</td>\n",
       "      <td>Automatic (AM-S6)</td>\n",
       "      <td>Premium Gasoline</td>\n",
       "      <td>4</td>\n",
       "      <td>2.0</td>\n",
       "      <td>...</td>\n",
       "      <td>0</td>\n",
       "      <td>21.8706</td>\n",
       "      <td>26.9770</td>\n",
       "      <td>31.0367</td>\n",
       "      <td>42.4936</td>\n",
       "      <td>25.2227</td>\n",
       "      <td>349</td>\n",
       "      <td>6</td>\n",
       "      <td>6</td>\n",
       "      <td>Automatic</td>\n",
       "    </tr>\n",
       "    <tr>\n",
       "      <th>2</th>\n",
       "      <td>32206</td>\n",
       "      <td>Volkswagen</td>\n",
       "      <td>CC</td>\n",
       "      <td>2013</td>\n",
       "      <td>Compact Cars</td>\n",
       "      <td>Front-Wheel Drive</td>\n",
       "      <td>Automatic (S6)</td>\n",
       "      <td>Premium Gasoline</td>\n",
       "      <td>6</td>\n",
       "      <td>3.6</td>\n",
       "      <td>...</td>\n",
       "      <td>0</td>\n",
       "      <td>17.4935</td>\n",
       "      <td>21.2000</td>\n",
       "      <td>26.5716</td>\n",
       "      <td>35.1000</td>\n",
       "      <td>20.6716</td>\n",
       "      <td>429</td>\n",
       "      <td>5</td>\n",
       "      <td>5</td>\n",
       "      <td>Automatic</td>\n",
       "    </tr>\n",
       "    <tr>\n",
       "      <th>3</th>\n",
       "      <td>32207</td>\n",
       "      <td>Volkswagen</td>\n",
       "      <td>CC 4motion</td>\n",
       "      <td>2013</td>\n",
       "      <td>Compact Cars</td>\n",
       "      <td>All-Wheel Drive</td>\n",
       "      <td>Automatic (S6)</td>\n",
       "      <td>Premium Gasoline</td>\n",
       "      <td>6</td>\n",
       "      <td>3.6</td>\n",
       "      <td>...</td>\n",
       "      <td>0</td>\n",
       "      <td>16.9415</td>\n",
       "      <td>20.5000</td>\n",
       "      <td>25.2190</td>\n",
       "      <td>33.5000</td>\n",
       "      <td>19.8774</td>\n",
       "      <td>446</td>\n",
       "      <td>5</td>\n",
       "      <td>5</td>\n",
       "      <td>Automatic</td>\n",
       "    </tr>\n",
       "    <tr>\n",
       "      <th>4</th>\n",
       "      <td>32208</td>\n",
       "      <td>Chevrolet</td>\n",
       "      <td>Malibu eAssist</td>\n",
       "      <td>2013</td>\n",
       "      <td>Midsize Cars</td>\n",
       "      <td>Front-Wheel Drive</td>\n",
       "      <td>Automatic (S6)</td>\n",
       "      <td>Regular Gasoline</td>\n",
       "      <td>4</td>\n",
       "      <td>2.4</td>\n",
       "      <td>...</td>\n",
       "      <td>95</td>\n",
       "      <td>24.7726</td>\n",
       "      <td>31.9796</td>\n",
       "      <td>35.5340</td>\n",
       "      <td>51.8816</td>\n",
       "      <td>28.6813</td>\n",
       "      <td>310</td>\n",
       "      <td>8</td>\n",
       "      <td>8</td>\n",
       "      <td>Automatic</td>\n",
       "    </tr>\n",
       "  </tbody>\n",
       "</table>\n",
       "<p>5 rows × 21 columns</p>\n",
       "</div>"
      ],
      "text/plain": [
       "      id        make           model  year           VClass  \\\n",
       "0  32204      Nissan            GT-R  2013  Subcompact Cars   \n",
       "1  32205  Volkswagen              CC  2013     Compact Cars   \n",
       "2  32206  Volkswagen              CC  2013     Compact Cars   \n",
       "3  32207  Volkswagen      CC 4motion  2013     Compact Cars   \n",
       "4  32208   Chevrolet  Malibu eAssist  2013     Midsize Cars   \n",
       "\n",
       "               drive              trans          fuelType  cylinders  displ  \\\n",
       "0    All-Wheel Drive    Automatic (AM6)  Premium Gasoline          6    3.8   \n",
       "1  Front-Wheel Drive  Automatic (AM-S6)  Premium Gasoline          4    2.0   \n",
       "2  Front-Wheel Drive     Automatic (S6)  Premium Gasoline          6    3.6   \n",
       "3    All-Wheel Drive     Automatic (S6)  Premium Gasoline          6    3.6   \n",
       "4  Front-Wheel Drive     Automatic (S6)  Regular Gasoline          4    2.4   \n",
       "\n",
       "   ...  pv4     city    UCity  highway  UHighway     comb  co2  feScore  \\\n",
       "0  ...    0  16.4596  20.2988  22.5568   30.1798  18.7389  471        4   \n",
       "1  ...    0  21.8706  26.9770  31.0367   42.4936  25.2227  349        6   \n",
       "2  ...    0  17.4935  21.2000  26.5716   35.1000  20.6716  429        5   \n",
       "3  ...    0  16.9415  20.5000  25.2190   33.5000  19.8774  446        5   \n",
       "4  ...   95  24.7726  31.9796  35.5340   51.8816  28.6813  310        8   \n",
       "\n",
       "   ghgScore  trans_type  \n",
       "0         4   Automatic  \n",
       "1         6   Automatic  \n",
       "2         5   Automatic  \n",
       "3         5   Automatic  \n",
       "4         8   Automatic  \n",
       "\n",
       "[5 rows x 21 columns]"
      ]
     },
     "execution_count": 3,
     "metadata": {},
     "output_type": "execute_result"
    }
   ],
   "source": [
    "print(fuel_econ.shape)\n",
    "fuel_econ.head()"
   ]
  },
  {
   "cell_type": "code",
   "execution_count": 4,
   "metadata": {
    "scrolled": true
   },
   "outputs": [
    {
     "name": "stdout",
     "output_type": "stream",
     "text": [
      "object\n",
      "category\n"
     ]
    }
   ],
   "source": [
    "# Data type change from 'string' to 'category'\n",
    "\n",
    "print(fuel_econ.VClass.dtype)\n",
    "\n",
    "sedan_classes = [\n",
    "    'Minicompact Cars', 'Subcompact Cars', 'Compact Cars', 'Midsize Cars',\n",
    "    'Large Cares'\n",
    "]\n",
    "\n",
    "vclasses = pd.api.types.CategoricalDtype(ordered=True,\n",
    "                                         categories=sedan_classes)\n",
    "fuel_econ['VClass'] = fuel_econ['VClass'].astype(vclasses)\n",
    "\n",
    "print(fuel_econ.VClass.dtype)"
   ]
  },
  {
   "cell_type": "code",
   "execution_count": 5,
   "metadata": {},
   "outputs": [
    {
     "data": {
      "text/plain": [
       "3929"
      ]
     },
     "execution_count": 5,
     "metadata": {},
     "output_type": "execute_result"
    }
   ],
   "source": [
    "fuel_econ.shape[0]"
   ]
  },
  {
   "cell_type": "code",
   "execution_count": 6,
   "metadata": {},
   "outputs": [
    {
     "data": {
      "text/plain": [
       "array([ 872, 1663, 2428, 1180,  853, 2052, 2184,  145, 2789, 1936,  885,\n",
       "       1241, 2744, 1172, 1925, 3871, 1775, 1591, 3021,  353, 1292, 1245,\n",
       "       1828,    3,  351,  272, 3790,  285, 2097, 3363, 3803, 2537, 1283,\n",
       "        926, 2595, 2485,  206, 1894, 2437, 2790, 2019, 1491,  810, 1552,\n",
       "       3356, 1406, 2255,  181, 3481, 3453, 1650, 2445, 2911,  339, 2060,\n",
       "       2556, 2100,  820, 2438, 3526, 1916, 2043,   89, 1339, 1088, 2665,\n",
       "       3805, 3359, 3839, 2945, 3376, 3024, 3617,  197, 2153, 2594, 2584,\n",
       "       1058, 2170, 2772,  384, 2247, 2887, 1691, 1867,  527, 3683, 3096,\n",
       "       3891, 3890,  365, 1868, 3777, 2694, 1077, 1154, 2417, 2260,  821,\n",
       "        594, 3482, 1528,  694, 1521, 3117,  190,  567,  236, 1878, 1698,\n",
       "       2209, 1000,  785, 2115, 2223, 3418,  282, 3917, 2832,  860, 2346,\n",
       "        284, 3425, 3441, 3445, 3769, 1398,  143, 2924, 3836, 1086, 3109,\n",
       "        695, 2993, 1376, 1645, 1604, 3470, 2749, 2109, 2490,  654, 2119,\n",
       "       3365, 2249,   91, 3057,  307, 1780, 2568, 2622,  759, 2860, 1043,\n",
       "       2017, 3320, 3058,  112,  640, 2648,  310, 3639, 2652, 1930,  838,\n",
       "       1026, 2407, 3008, 3590, 1196,  258, 3211,   62, 3347, 2701, 2474,\n",
       "       2948, 3643, 1998, 3471,  391, 3530,   94, 2147, 1328, 2868, 1804,\n",
       "       1289,  390, 2670, 1294,  133, 1358, 1290, 2644, 2907, 2979, 1015,\n",
       "       3786, 3273])"
      ]
     },
     "execution_count": 6,
     "metadata": {},
     "output_type": "execute_result"
    }
   ],
   "source": [
    "np.random.seed(2018)\n",
    "sample = np.random.choice(fuel_econ.shape[0], 200, replace=False)\n",
    "sample"
   ]
  },
  {
   "cell_type": "code",
   "execution_count": 7,
   "metadata": {},
   "outputs": [
    {
     "data": {
      "text/html": [
       "<div>\n",
       "<style scoped>\n",
       "    .dataframe tbody tr th:only-of-type {\n",
       "        vertical-align: middle;\n",
       "    }\n",
       "\n",
       "    .dataframe tbody tr th {\n",
       "        vertical-align: top;\n",
       "    }\n",
       "\n",
       "    .dataframe thead th {\n",
       "        text-align: right;\n",
       "    }\n",
       "</style>\n",
       "<table border=\"1\" class=\"dataframe\">\n",
       "  <thead>\n",
       "    <tr style=\"text-align: right;\">\n",
       "      <th></th>\n",
       "      <th>id</th>\n",
       "      <th>make</th>\n",
       "      <th>model</th>\n",
       "      <th>year</th>\n",
       "      <th>VClass</th>\n",
       "      <th>drive</th>\n",
       "      <th>trans</th>\n",
       "      <th>fuelType</th>\n",
       "      <th>cylinders</th>\n",
       "      <th>displ</th>\n",
       "      <th>...</th>\n",
       "      <th>pv4</th>\n",
       "      <th>city</th>\n",
       "      <th>UCity</th>\n",
       "      <th>highway</th>\n",
       "      <th>UHighway</th>\n",
       "      <th>comb</th>\n",
       "      <th>co2</th>\n",
       "      <th>feScore</th>\n",
       "      <th>ghgScore</th>\n",
       "      <th>trans_type</th>\n",
       "    </tr>\n",
       "  </thead>\n",
       "  <tbody>\n",
       "    <tr>\n",
       "      <th>872</th>\n",
       "      <td>33923</td>\n",
       "      <td>Subaru</td>\n",
       "      <td>Impreza AWD</td>\n",
       "      <td>2014</td>\n",
       "      <td>Compact Cars</td>\n",
       "      <td>All-Wheel Drive</td>\n",
       "      <td>Manual 6-spd</td>\n",
       "      <td>Premium Gasoline</td>\n",
       "      <td>4</td>\n",
       "      <td>2.5</td>\n",
       "      <td>...</td>\n",
       "      <td>96</td>\n",
       "      <td>16.7674</td>\n",
       "      <td>20.8845</td>\n",
       "      <td>22.5537</td>\n",
       "      <td>31.4599</td>\n",
       "      <td>18.9559</td>\n",
       "      <td>468</td>\n",
       "      <td>4</td>\n",
       "      <td>4</td>\n",
       "      <td>Manual</td>\n",
       "    </tr>\n",
       "    <tr>\n",
       "      <th>1663</th>\n",
       "      <td>35337</td>\n",
       "      <td>Hyundai</td>\n",
       "      <td>Veloster</td>\n",
       "      <td>2015</td>\n",
       "      <td>Compact Cars</td>\n",
       "      <td>Front-Wheel Drive</td>\n",
       "      <td>Manual 6-spd</td>\n",
       "      <td>Regular Gasoline</td>\n",
       "      <td>4</td>\n",
       "      <td>1.6</td>\n",
       "      <td>...</td>\n",
       "      <td>90</td>\n",
       "      <td>25.9773</td>\n",
       "      <td>33.7198</td>\n",
       "      <td>34.1136</td>\n",
       "      <td>49.5544</td>\n",
       "      <td>29.1006</td>\n",
       "      <td>301</td>\n",
       "      <td>7</td>\n",
       "      <td>7</td>\n",
       "      <td>Manual</td>\n",
       "    </tr>\n",
       "    <tr>\n",
       "      <th>2428</th>\n",
       "      <td>36881</td>\n",
       "      <td>Ford</td>\n",
       "      <td>Mustang</td>\n",
       "      <td>2016</td>\n",
       "      <td>Subcompact Cars</td>\n",
       "      <td>Rear-Wheel Drive</td>\n",
       "      <td>Automatic (S6)</td>\n",
       "      <td>Regular Gasoline</td>\n",
       "      <td>6</td>\n",
       "      <td>3.7</td>\n",
       "      <td>...</td>\n",
       "      <td>0</td>\n",
       "      <td>18.7011</td>\n",
       "      <td>23.4925</td>\n",
       "      <td>27.3436</td>\n",
       "      <td>38.7800</td>\n",
       "      <td>21.8020</td>\n",
       "      <td>410</td>\n",
       "      <td>5</td>\n",
       "      <td>5</td>\n",
       "      <td>Automatic</td>\n",
       "    </tr>\n",
       "    <tr>\n",
       "      <th>1180</th>\n",
       "      <td>34466</td>\n",
       "      <td>Porsche</td>\n",
       "      <td>911 Targa 4</td>\n",
       "      <td>2014</td>\n",
       "      <td>Minicompact Cars</td>\n",
       "      <td>4-Wheel Drive</td>\n",
       "      <td>Manual 7-spd</td>\n",
       "      <td>Premium Gasoline</td>\n",
       "      <td>6</td>\n",
       "      <td>3.4</td>\n",
       "      <td>...</td>\n",
       "      <td>0</td>\n",
       "      <td>18.3385</td>\n",
       "      <td>23.0000</td>\n",
       "      <td>25.8687</td>\n",
       "      <td>36.5000</td>\n",
       "      <td>21.1028</td>\n",
       "      <td>422</td>\n",
       "      <td>5</td>\n",
       "      <td>5</td>\n",
       "      <td>Manual</td>\n",
       "    </tr>\n",
       "    <tr>\n",
       "      <th>853</th>\n",
       "      <td>33852</td>\n",
       "      <td>Cadillac</td>\n",
       "      <td>XTS AWD</td>\n",
       "      <td>2014</td>\n",
       "      <td>NaN</td>\n",
       "      <td>All-Wheel Drive</td>\n",
       "      <td>Automatic (S6)</td>\n",
       "      <td>Premium Gasoline</td>\n",
       "      <td>6</td>\n",
       "      <td>3.6</td>\n",
       "      <td>...</td>\n",
       "      <td>104</td>\n",
       "      <td>15.9536</td>\n",
       "      <td>19.8000</td>\n",
       "      <td>23.7068</td>\n",
       "      <td>33.2000</td>\n",
       "      <td>18.7067</td>\n",
       "      <td>475</td>\n",
       "      <td>4</td>\n",
       "      <td>4</td>\n",
       "      <td>Automatic</td>\n",
       "    </tr>\n",
       "  </tbody>\n",
       "</table>\n",
       "<p>5 rows × 21 columns</p>\n",
       "</div>"
      ],
      "text/plain": [
       "         id      make        model  year            VClass              drive  \\\n",
       "872   33923    Subaru  Impreza AWD  2014      Compact Cars    All-Wheel Drive   \n",
       "1663  35337   Hyundai     Veloster  2015      Compact Cars  Front-Wheel Drive   \n",
       "2428  36881      Ford      Mustang  2016   Subcompact Cars   Rear-Wheel Drive   \n",
       "1180  34466   Porsche  911 Targa 4  2014  Minicompact Cars      4-Wheel Drive   \n",
       "853   33852  Cadillac      XTS AWD  2014               NaN    All-Wheel Drive   \n",
       "\n",
       "               trans          fuelType  cylinders  displ  ...  pv4     city  \\\n",
       "872     Manual 6-spd  Premium Gasoline          4    2.5  ...   96  16.7674   \n",
       "1663    Manual 6-spd  Regular Gasoline          4    1.6  ...   90  25.9773   \n",
       "2428  Automatic (S6)  Regular Gasoline          6    3.7  ...    0  18.7011   \n",
       "1180    Manual 7-spd  Premium Gasoline          6    3.4  ...    0  18.3385   \n",
       "853   Automatic (S6)  Premium Gasoline          6    3.6  ...  104  15.9536   \n",
       "\n",
       "        UCity  highway  UHighway     comb  co2  feScore  ghgScore  trans_type  \n",
       "872   20.8845  22.5537   31.4599  18.9559  468        4         4      Manual  \n",
       "1663  33.7198  34.1136   49.5544  29.1006  301        7         7      Manual  \n",
       "2428  23.4925  27.3436   38.7800  21.8020  410        5         5   Automatic  \n",
       "1180  23.0000  25.8687   36.5000  21.1028  422        5         5      Manual  \n",
       "853   19.8000  23.7068   33.2000  18.7067  475        4         4   Automatic  \n",
       "\n",
       "[5 rows x 21 columns]"
      ]
     },
     "execution_count": 7,
     "metadata": {},
     "output_type": "execute_result"
    }
   ],
   "source": [
    "# pick ramdomly chosen sample of 200     # fuel_econ.sample(200)\n",
    "\n",
    "fuel_econ_subset = fuel_econ.loc[sample]\n",
    "fuel_econ_subset.head()"
   ]
  },
  {
   "cell_type": "code",
   "execution_count": 8,
   "metadata": {},
   "outputs": [
    {
     "data": {
      "text/plain": [
       "<AxesSubplot:xlabel='displ', ylabel='comb'>"
      ]
     },
     "execution_count": 8,
     "metadata": {},
     "output_type": "execute_result"
    },
    {
     "data": {
      "image/png": "[encoded data removed]",
      "text/plain": [
       "<Figure size 432x288 with 1 Axes>"
      ]
     },
     "metadata": {
      "needs_background": "light"
     },
     "output_type": "display_data"
    }
   ],
   "source": [
    "sb.regplot(data=fuel_econ_subset, x='displ', y='comb')"
   ]
  },
  {
   "cell_type": "code",
   "execution_count": 9,
   "metadata": {},
   "outputs": [
    {
     "data": {
      "text/plain": [
       "<AxesSubplot:xlabel='displ', ylabel='comb'>"
      ]
     },
     "execution_count": 9,
     "metadata": {},
     "output_type": "execute_result"
    },
    {
     "data": {
      "image/png": "[encoded data removed]",
      "text/plain": [
       "<Figure size 432x288 with 1 Axes>"
      ]
     },
     "metadata": {
      "needs_background": "light"
     },
     "output_type": "display_data"
    }
   ],
   "source": [
    "sb.regplot(data=fuel_econ_subset, x='displ', y='comb', x_jitter=0.04)"
   ]
  },
  {
   "cell_type": "code",
   "execution_count": 10,
   "metadata": {},
   "outputs": [
    {
     "data": {
      "text/plain": [
       "Text(0, 0.5, 'Combined Fuel Eff. (mpg)')"
      ]
     },
     "execution_count": 10,
     "metadata": {},
     "output_type": "execute_result"
    },
    {
     "data": {
      "image/png": "[encoded data removed]",
      "text/plain": [
       "<Figure size 432x288 with 1 Axes>"
      ]
     },
     "metadata": {
      "needs_background": "light"
     },
     "output_type": "display_data"
    }
   ],
   "source": [
    "sb.regplot(data=fuel_econ_subset,\n",
    "           x='displ',\n",
    "           y='comb',\n",
    "           x_jitter=0.04,\n",
    "           fit_reg=False)\n",
    "\n",
    "plt.xlabel('Displacement (l)')\n",
    "plt.ylabel('Combined Fuel Eff. (mpg)')"
   ]
  },
  {
   "cell_type": "markdown",
   "metadata": {},
   "source": [
    "# Shape, Color, Size as 3rd variable (non-positional encodings)"
   ]
  },
  {
   "cell_type": "markdown",
   "metadata": {},
   "source": [
    "- Make a shape per categorical value - tran"
   ]
  },
  {
   "cell_type": "code",
   "execution_count": 11,
   "metadata": {},
   "outputs": [
    {
     "data": {
      "text/html": [
       "<div>\n",
       "<style scoped>\n",
       "    .dataframe tbody tr th:only-of-type {\n",
       "        vertical-align: middle;\n",
       "    }\n",
       "\n",
       "    .dataframe tbody tr th {\n",
       "        vertical-align: top;\n",
       "    }\n",
       "\n",
       "    .dataframe thead th {\n",
       "        text-align: right;\n",
       "    }\n",
       "</style>\n",
       "<table border=\"1\" class=\"dataframe\">\n",
       "  <thead>\n",
       "    <tr style=\"text-align: right;\">\n",
       "      <th></th>\n",
       "      <th>id</th>\n",
       "      <th>make</th>\n",
       "      <th>model</th>\n",
       "      <th>year</th>\n",
       "      <th>VClass</th>\n",
       "      <th>drive</th>\n",
       "      <th>trans</th>\n",
       "      <th>fuelType</th>\n",
       "      <th>cylinders</th>\n",
       "      <th>displ</th>\n",
       "      <th>...</th>\n",
       "      <th>pv4</th>\n",
       "      <th>city</th>\n",
       "      <th>UCity</th>\n",
       "      <th>highway</th>\n",
       "      <th>UHighway</th>\n",
       "      <th>comb</th>\n",
       "      <th>co2</th>\n",
       "      <th>feScore</th>\n",
       "      <th>ghgScore</th>\n",
       "      <th>trans_type</th>\n",
       "    </tr>\n",
       "  </thead>\n",
       "  <tbody>\n",
       "    <tr>\n",
       "      <th>872</th>\n",
       "      <td>33923</td>\n",
       "      <td>Subaru</td>\n",
       "      <td>Impreza AWD</td>\n",
       "      <td>2014</td>\n",
       "      <td>Compact Cars</td>\n",
       "      <td>All-Wheel Drive</td>\n",
       "      <td>Manual 6-spd</td>\n",
       "      <td>Premium Gasoline</td>\n",
       "      <td>4</td>\n",
       "      <td>2.5</td>\n",
       "      <td>...</td>\n",
       "      <td>96</td>\n",
       "      <td>16.7674</td>\n",
       "      <td>20.8845</td>\n",
       "      <td>22.5537</td>\n",
       "      <td>31.4599</td>\n",
       "      <td>18.9559</td>\n",
       "      <td>468</td>\n",
       "      <td>4</td>\n",
       "      <td>4</td>\n",
       "      <td>Manual</td>\n",
       "    </tr>\n",
       "    <tr>\n",
       "      <th>1663</th>\n",
       "      <td>35337</td>\n",
       "      <td>Hyundai</td>\n",
       "      <td>Veloster</td>\n",
       "      <td>2015</td>\n",
       "      <td>Compact Cars</td>\n",
       "      <td>Front-Wheel Drive</td>\n",
       "      <td>Manual 6-spd</td>\n",
       "      <td>Regular Gasoline</td>\n",
       "      <td>4</td>\n",
       "      <td>1.6</td>\n",
       "      <td>...</td>\n",
       "      <td>90</td>\n",
       "      <td>25.9773</td>\n",
       "      <td>33.7198</td>\n",
       "      <td>34.1136</td>\n",
       "      <td>49.5544</td>\n",
       "      <td>29.1006</td>\n",
       "      <td>301</td>\n",
       "      <td>7</td>\n",
       "      <td>7</td>\n",
       "      <td>Manual</td>\n",
       "    </tr>\n",
       "    <tr>\n",
       "      <th>2428</th>\n",
       "      <td>36881</td>\n",
       "      <td>Ford</td>\n",
       "      <td>Mustang</td>\n",
       "      <td>2016</td>\n",
       "      <td>Subcompact Cars</td>\n",
       "      <td>Rear-Wheel Drive</td>\n",
       "      <td>Automatic (S6)</td>\n",
       "      <td>Regular Gasoline</td>\n",
       "      <td>6</td>\n",
       "      <td>3.7</td>\n",
       "      <td>...</td>\n",
       "      <td>0</td>\n",
       "      <td>18.7011</td>\n",
       "      <td>23.4925</td>\n",
       "      <td>27.3436</td>\n",
       "      <td>38.7800</td>\n",
       "      <td>21.8020</td>\n",
       "      <td>410</td>\n",
       "      <td>5</td>\n",
       "      <td>5</td>\n",
       "      <td>Automatic</td>\n",
       "    </tr>\n",
       "    <tr>\n",
       "      <th>1180</th>\n",
       "      <td>34466</td>\n",
       "      <td>Porsche</td>\n",
       "      <td>911 Targa 4</td>\n",
       "      <td>2014</td>\n",
       "      <td>Minicompact Cars</td>\n",
       "      <td>4-Wheel Drive</td>\n",
       "      <td>Manual 7-spd</td>\n",
       "      <td>Premium Gasoline</td>\n",
       "      <td>6</td>\n",
       "      <td>3.4</td>\n",
       "      <td>...</td>\n",
       "      <td>0</td>\n",
       "      <td>18.3385</td>\n",
       "      <td>23.0000</td>\n",
       "      <td>25.8687</td>\n",
       "      <td>36.5000</td>\n",
       "      <td>21.1028</td>\n",
       "      <td>422</td>\n",
       "      <td>5</td>\n",
       "      <td>5</td>\n",
       "      <td>Manual</td>\n",
       "    </tr>\n",
       "    <tr>\n",
       "      <th>853</th>\n",
       "      <td>33852</td>\n",
       "      <td>Cadillac</td>\n",
       "      <td>XTS AWD</td>\n",
       "      <td>2014</td>\n",
       "      <td>NaN</td>\n",
       "      <td>All-Wheel Drive</td>\n",
       "      <td>Automatic (S6)</td>\n",
       "      <td>Premium Gasoline</td>\n",
       "      <td>6</td>\n",
       "      <td>3.6</td>\n",
       "      <td>...</td>\n",
       "      <td>104</td>\n",
       "      <td>15.9536</td>\n",
       "      <td>19.8000</td>\n",
       "      <td>23.7068</td>\n",
       "      <td>33.2000</td>\n",
       "      <td>18.7067</td>\n",
       "      <td>475</td>\n",
       "      <td>4</td>\n",
       "      <td>4</td>\n",
       "      <td>Automatic</td>\n",
       "    </tr>\n",
       "  </tbody>\n",
       "</table>\n",
       "<p>5 rows × 21 columns</p>\n",
       "</div>"
      ],
      "text/plain": [
       "         id      make        model  year            VClass              drive  \\\n",
       "872   33923    Subaru  Impreza AWD  2014      Compact Cars    All-Wheel Drive   \n",
       "1663  35337   Hyundai     Veloster  2015      Compact Cars  Front-Wheel Drive   \n",
       "2428  36881      Ford      Mustang  2016   Subcompact Cars   Rear-Wheel Drive   \n",
       "1180  34466   Porsche  911 Targa 4  2014  Minicompact Cars      4-Wheel Drive   \n",
       "853   33852  Cadillac      XTS AWD  2014               NaN    All-Wheel Drive   \n",
       "\n",
       "               trans          fuelType  cylinders  displ  ...  pv4     city  \\\n",
       "872     Manual 6-spd  Premium Gasoline          4    2.5  ...   96  16.7674   \n",
       "1663    Manual 6-spd  Regular Gasoline          4    1.6  ...   90  25.9773   \n",
       "2428  Automatic (S6)  Regular Gasoline          6    3.7  ...    0  18.7011   \n",
       "1180    Manual 7-spd  Premium Gasoline          6    3.4  ...    0  18.3385   \n",
       "853   Automatic (S6)  Premium Gasoline          6    3.6  ...  104  15.9536   \n",
       "\n",
       "        UCity  highway  UHighway     comb  co2  feScore  ghgScore  trans_type  \n",
       "872   20.8845  22.5537   31.4599  18.9559  468        4         4      Manual  \n",
       "1663  33.7198  34.1136   49.5544  29.1006  301        7         7      Manual  \n",
       "2428  23.4925  27.3436   38.7800  21.8020  410        5         5   Automatic  \n",
       "1180  23.0000  25.8687   36.5000  21.1028  422        5         5      Manual  \n",
       "853   19.8000  23.7068   33.2000  18.7067  475        4         4   Automatic  \n",
       "\n",
       "[5 rows x 21 columns]"
      ]
     },
     "execution_count": 11,
     "metadata": {},
     "output_type": "execute_result"
    }
   ],
   "source": [
    "fuel_econ_subset.head()"
   ]
  },
  {
   "cell_type": "markdown",
   "metadata": {},
   "source": [
    "## Shape (categorical) - transmission type"
   ]
  },
  {
   "cell_type": "markdown",
   "metadata": {},
   "source": [
    "Shape is a good encoding for categorical variables, using one shape for each level of the categorical variable. Unfortunately, there is no built-in way to automatically assign different shapes in a single call of the `scatter` or `regplot` function. Instead, we need to write a loop to call our plotting function multiple times, isolating data points by categorical level and setting a different \"marker\" argument value for each one."
   ]
  },
  {
   "cell_type": "markdown",
   "metadata": {},
   "source": [
    "https://matplotlib.org/stable/api/markers_api.html"
   ]
  },
  {
   "cell_type": "code",
   "execution_count": 12,
   "metadata": {},
   "outputs": [
    {
     "data": {
      "text/plain": [
       "<matplotlib.legend.Legend at 0x265b6ce5670>"
      ]
     },
     "execution_count": 12,
     "metadata": {},
     "output_type": "execute_result"
    },
    {
     "data": {
      "image/png": "[encoded data removed]",
      "text/plain": [
       "<Figure size 432x288 with 1 Axes>"
      ]
     },
     "metadata": {
      "needs_background": "light"
     },
     "output_type": "display_data"
    }
   ],
   "source": [
    "# Make a list of lists rather than dictionary so that we can have finer control of the order in which the levels are plotted.\n",
    "\n",
    "ttype_markers = [['Automatic', 'o'], ['Manual', '^']]  \n",
    "\n",
    "# for more shapes => https://matplotlib.org/stable/api/markers_api.html \n",
    "# input each variable of lists\n",
    "\n",
    "for ttype, marker in ttype_markers:\n",
    "    plot_data = fuel_econ_subset.loc[fuel_econ_subset['trans_type'] == ttype]  # loop matchs 'fuel_econ.tran' with 'ttype'\n",
    "    sb.regplot(data=plot_data,\n",
    "               x='displ',\n",
    "               y='comb',\n",
    "               x_jitter=0.04,\n",
    "               fit_reg=False,\n",
    "               marker=marker)\n",
    "\n",
    "plt.xlabel('Displacement (l)')\n",
    "plt.ylabel('Combined Fuel Eff. (mpg)')\n",
    "plt.legend(['Automatic', 'Manual'])\n",
    "# Add legend, one for each regplot call"
   ]
  },
  {
   "cell_type": "code",
   "execution_count": 13,
   "metadata": {},
   "outputs": [
    {
     "data": {
      "text/plain": [
       "([], [])"
      ]
     },
     "execution_count": 13,
     "metadata": {},
     "output_type": "execute_result"
    },
    {
     "data": {
      "image/png": "[encoded data removed]",
      "text/plain": [
       "<Figure size 360x360 with 1 Axes>"
      ]
     },
     "metadata": {},
     "output_type": "display_data"
    }
   ],
   "source": [
    "plt.figure(figsize=[5, 5])\n",
    "\n",
    "common_size = 2500\n",
    "plt.scatter([0], [1], marker='s', s=common_size)\n",
    "plt.scatter([1], [1], marker='^', s=common_size)\n",
    "plt.scatter([0], [0], marker='o', s=common_size)\n",
    "plt.scatter([1], [0], marker='X', s=common_size)\n",
    "\n",
    "# a little bit of aesthetic cleaning\n",
    "plt.xlim(-0.5, 1.5)\n",
    "plt.xticks([])\n",
    "plt.ylim(-0.5, 1.5)\n",
    "plt.yticks([])"
   ]
  },
  {
   "cell_type": "markdown",
   "metadata": {},
   "source": [
    "Despite having the same \"s\" values, the triangle, circle, and X markers all **look smaller** (have a smaller area) than the square. Perhaps this isn't a major concern, considering that size is better used as a qualitative measure for exploration. But it's still something to consider. A little more discussion of the number of variables that can be reasonably packed into a plot can be found later in the lesson (\"How much is too much?\")."
   ]
  },
  {
   "cell_type": "markdown",
   "metadata": {},
   "source": [
    "## Size (numeric) - CO2 emission (g/mi)"
   ]
  },
  {
   "cell_type": "markdown",
   "metadata": {},
   "source": [
    "Point size is a good encoding for numeric variables. Usually, we want the numeric values to be proportional to the area of the point markers; this is the default functionality of the \"s\" parameter in `scatter`. (You need to refer to \"s\" through a dictionary assigned to the \"scatter_kws\" parameter when working with `regplot`.)"
   ]
  },
  {
   "cell_type": "code",
   "execution_count": 14,
   "metadata": {},
   "outputs": [
    {
     "data": {
      "text/plain": [
       "<matplotlib.legend.Legend at 0x265b6da67f0>"
      ]
     },
     "execution_count": 14,
     "metadata": {},
     "output_type": "execute_result"
    },
    {
     "data": {
      "image/png": "[encoded data removed]",
      "text/plain": [
       "<Figure size 432x288 with 1 Axes>"
      ]
     },
     "metadata": {
      "needs_background": "light"
     },
     "output_type": "display_data"
    }
   ],
   "source": [
    "sb.regplot(data=fuel_econ_subset,\n",
    "           x='displ',\n",
    "           y='comb',\n",
    "           x_jitter=0.04,\n",
    "           fit_reg=False,\n",
    "           scatter_kws={'s': fuel_econ_subset['co2'] / 2})\n",
    "# scatter_kws = {'s':    } : make marker size\n",
    "\n",
    "plt.xlabel('Displacement (l)')\n",
    "plt.ylabel('Combined Fuel Eff. (mpg)')\n",
    "\n",
    "plt.legend(['size?'])"
   ]
  },
  {
   "cell_type": "code",
   "execution_count": 15,
   "metadata": {},
   "outputs": [
    {
     "data": {
      "text/plain": [
       "<matplotlib.legend.Legend at 0x265b6e05130>"
      ]
     },
     "execution_count": 15,
     "metadata": {},
     "output_type": "execute_result"
    },
    {
     "data": {
      "image/png": "[encoded data removed]",
      "text/plain": [
       "<Figure size 432x288 with 1 Axes>"
      ]
     },
     "metadata": {
      "needs_background": "light"
     },
     "output_type": "display_data"
    }
   ],
   "source": [
    "sb.regplot(data=fuel_econ_subset,\n",
    "           x='displ',\n",
    "           y='comb',\n",
    "           x_jitter=0.04,\n",
    "           fit_reg=False,\n",
    "           scatter_kws={'s': fuel_econ_subset['co2'] / 2})\n",
    "# scatter_kws = {'s':    } : make marker size\n",
    "\n",
    "plt.xlabel('Displacement (l)')\n",
    "plt.ylabel('Combined Fuel Eff. (mpg)')\n",
    "\n",
    "# make dummy scatterplot to get the size of shape for values in list.\n",
    "\n",
    "sizes = [200, 350, 500]\n",
    "base_color = sb.color_palette()[0]\n",
    "\n",
    "legend_obj = []  # generate dummy scatter plot object\n",
    "for s in sizes:\n",
    "    legend_obj.append(plt.scatter([], [], s=s / 2, color=base_color))\n",
    "    # only extract maker-size as 's' for 'sizes' in list\n",
    "\n",
    "plt.legend(\n",
    "    legend_obj, sizes,\n",
    "    title='CO2 (g/mi)')  # display the extracted size of shape with title"
   ]
  },
  {
   "cell_type": "markdown",
   "metadata": {},
   "source": [
    "While the creation of the plot is easier with size, we need to put in extra leg work to create a legend. Since, as noted above, **`legend` will only create one legend entry** per plot function call, we need to create additional `dummy scatter` objects with reference sizes to create the plot. The color is fixed so that all of the legend entries have the same color, and two arguments are provided to the legend function: the list of plotting objects to depict in the legend, and their labels."
   ]
  },
  {
   "cell_type": "markdown",
   "metadata": {},
   "source": [
    "## Color"
   ]
  },
  {
   "cell_type": "code",
   "execution_count": 16,
   "metadata": {},
   "outputs": [],
   "source": [
    "np.random.seed(2018)\n",
    "sample = np.random.choice(fuel_econ.shape[0], 200, replace=False)\n",
    "fuel_econ_subset = fuel_econ.loc[sample]"
   ]
  },
  {
   "cell_type": "code",
   "execution_count": 17,
   "metadata": {},
   "outputs": [
    {
     "data": {
      "image/png": "[encoded data removed]",
      "text/plain": [
       "<Figure size 216x216 with 1 Axes>"
      ]
     },
     "metadata": {
      "needs_background": "light"
     },
     "output_type": "display_data"
    }
   ],
   "source": [
    "g = sb.FacetGrid(data=fuel_econ_subset, hue='trans_type')"
   ]
  },
  {
   "cell_type": "code",
   "execution_count": 18,
   "metadata": {},
   "outputs": [
    {
     "data": {
      "text/plain": [
       "Text(10.050000000000004, 0.5, 'Combined Fuel Eff. (mpg)')"
      ]
     },
     "execution_count": 18,
     "metadata": {},
     "output_type": "execute_result"
    },
    {
     "data": {
      "image/png": "[encoded data removed]",
      "text/plain": [
       "<Figure size 216x216 with 1 Axes>"
      ]
     },
     "metadata": {
      "needs_background": "light"
     },
     "output_type": "display_data"
    }
   ],
   "source": [
    "g = sb.FacetGrid(data=fuel_econ_subset, hue='trans_type')\n",
    "g.map(sb.regplot, 'displ', 'comb', x_jitter=0.04, fit_reg=False)\n",
    "\n",
    "plt.xlabel('Displacement (l)')\n",
    "plt.ylabel('Combined Fuel Eff. (mpg)')"
   ]
  },
  {
   "cell_type": "markdown",
   "metadata": {},
   "source": [
    "### Qualitative Variable - tran_type"
   ]
  },
  {
   "cell_type": "code",
   "execution_count": 19,
   "metadata": {},
   "outputs": [
    {
     "data": {
      "text/plain": [
       "Text(29.784765625000006, 0.5, 'Combined Fuel Eff. (mpg)')"
      ]
     },
     "execution_count": 19,
     "metadata": {},
     "output_type": "execute_result"
    },
    {
     "data": {
      "image/png": "[encoded data removed]",
      "text/plain": [
       "<Figure size 519.125x288 with 1 Axes>"
      ]
     },
     "metadata": {
      "needs_background": "light"
     },
     "output_type": "display_data"
    }
   ],
   "source": [
    "g = sb.FacetGrid(data=fuel_econ_subset,\n",
    "                 hue='trans_type',\n",
    "                 hue_order=['Automatic', 'Manual'],\n",
    "                 height=4,\n",
    "                 aspect=1.5)  # 'hue order' - change over color\n",
    "g.map(sb.regplot, 'displ', 'comb', x_jitter=0.04, fit_reg=False)\n",
    "\n",
    "g.add_legend()  # automatically add the relevant legend to plot\n",
    "\n",
    "plt.xlabel('Displacement (l)')\n",
    "plt.ylabel('Combined Fuel Eff. (mpg)')"
   ]
  },
  {
   "cell_type": "markdown",
   "metadata": {},
   "source": [
    "### Ordered Variable - VClass"
   ]
  },
  {
   "cell_type": "code",
   "execution_count": 20,
   "metadata": {
    "scrolled": true
   },
   "outputs": [
    {
     "data": {
      "text/plain": [
       "Text(33.703515625, 0.5, 'Combined Fuel Eff. (mpg)')"
      ]
     },
     "execution_count": 20,
     "metadata": {},
     "output_type": "execute_result"
    },
    {
     "data": {
      "image/png": "[encoded data removed]",
      "text/plain": [
       "<Figure size 557.125x288 with 1 Axes>"
      ]
     },
     "metadata": {
      "needs_background": "light"
     },
     "output_type": "display_data"
    }
   ],
   "source": [
    "g = sb.FacetGrid(data=fuel_econ_subset, hue='VClass', height=4, aspect=1.5)\n",
    "g.map(sb.regplot, 'displ', 'comb', x_jitter=0.04, fit_reg=False)\n",
    "\n",
    "g.add_legend()  # automatically add the relevant legend to plot\n",
    "\n",
    "plt.xlabel('Displacement (l)')\n",
    "plt.ylabel('Combined Fuel Eff. (mpg)')"
   ]
  },
  {
   "cell_type": "markdown",
   "metadata": {},
   "source": [
    "> This isn't quite distinctive, so we used a **sequential palette** instead."
   ]
  },
  {
   "cell_type": "code",
   "execution_count": 21,
   "metadata": {
    "scrolled": false
   },
   "outputs": [
    {
     "data": {
      "image/png": "[encoded data removed]",
      "text/plain": [
       "<Figure size 1080x216 with 5 Axes>"
      ]
     },
     "metadata": {
      "needs_background": "light"
     },
     "output_type": "display_data"
    }
   ],
   "source": [
    "#s\n",
    "\n",
    "bins = np.arange(12, 58+2, 2)\n",
    "g = sb.FacetGrid(data = fuel_econ, col = 'VClass')\n",
    "g.map(plt.hist, 'comb', bins = bins);"
   ]
  },
  {
   "cell_type": "markdown",
   "metadata": {},
   "source": [
    "If you have a qualitative variable, you can set different colors for different levels of a categorical variable through the \"hue\" parameter on seaborn's `FacetGrid` class."
   ]
  },
  {
   "cell_type": "code",
   "execution_count": 22,
   "metadata": {
    "scrolled": true
   },
   "outputs": [
    {
     "data": {
      "text/plain": [
       "Text(33.703515625, 0.5, 'Combined Fuel Eff. (mpg)')"
      ]
     },
     "execution_count": 22,
     "metadata": {},
     "output_type": "execute_result"
    },
    {
     "data": {
      "image/png": "[encoded data removed]",
      "text/plain": [
       "<Figure size 557.125x288 with 1 Axes>"
      ]
     },
     "metadata": {
      "needs_background": "light"
     },
     "output_type": "display_data"
    }
   ],
   "source": [
    "g = sb.FacetGrid(data=fuel_econ_subset,\n",
    "                 hue='VClass',\n",
    "                 height=4,\n",
    "                 aspect=1.5,\n",
    "                 palette='viridis_r')  # _r : reverse\n",
    "# good range of hues to further discriminate the categorical variables\n",
    "\n",
    "g.map(sb.regplot, 'displ', 'comb', x_jitter=0.04, fit_reg=False)\n",
    "\n",
    "g.add_legend()  # automatically add the relevant legend to plot\n",
    "\n",
    "plt.xlabel('Displacement (l)')\n",
    "plt.ylabel('Combined Fuel Eff. (mpg)')"
   ]
  },
  {
   "cell_type": "code",
   "execution_count": 23,
   "metadata": {},
   "outputs": [
    {
     "data": {
      "text/plain": [
       "Text(33.703515625, 0.5, 'Combined Fuel Eff. (mpg)')"
      ]
     },
     "execution_count": 23,
     "metadata": {},
     "output_type": "execute_result"
    },
    {
     "data": {
      "image/png": "[encoded data removed]",
      "text/plain": [
       "<Figure size 557.125x288 with 1 Axes>"
      ]
     },
     "metadata": {
      "needs_background": "light"
     },
     "output_type": "display_data"
    }
   ],
   "source": [
    "g = sb.FacetGrid(data=fuel_econ_subset,\n",
    "                 hue='VClass',\n",
    "                 height=4,\n",
    "                 aspect=1.5,\n",
    "                 palette='colorblind')  # colorblind\n",
    "# good range of hues to further discriminate the categorical variables\n",
    "\n",
    "g.map(sb.regplot, 'displ', 'comb', x_jitter=0.04, fit_reg=False)\n",
    "\n",
    "g.add_legend()  # automatically add the relevant legend to plot\n",
    "\n",
    "plt.xlabel('Displacement (l)')\n",
    "plt.ylabel('Combined Fuel Eff. (mpg)')"
   ]
  },
  {
   "cell_type": "markdown",
   "metadata": {},
   "source": [
    "### Ordered Variable - CO2"
   ]
  },
  {
   "cell_type": "markdown",
   "metadata": {},
   "source": [
    "FacetGrid is only used when there're `categorical` variable. Use `Scatter` plot instead."
   ]
  },
  {
   "cell_type": "code",
   "execution_count": 24,
   "metadata": {},
   "outputs": [
    {
     "data": {
      "text/plain": [
       "Text(0, 0.5, 'Combined Fuel Eff. (mpg)')"
      ]
     },
     "execution_count": 24,
     "metadata": {},
     "output_type": "execute_result"
    },
    {
     "data": {
      "image/png": "[encoded data removed]",
      "text/plain": [
       "<Figure size 432x288 with 2 Axes>"
      ]
     },
     "metadata": {
      "needs_background": "light"
     },
     "output_type": "display_data"
    }
   ],
   "source": [
    "plt.scatter(\n",
    "    data=fuel_econ_subset,\n",
    "    x='displ',\n",
    "    y='comb',\n",
    "    c='co2',  # c parameter for category (c.f. s for size)\n",
    "    cmap='viridis_r')  # good range of hue\n",
    "\n",
    "plt.colorbar(label='CO2 (g/mi)')\n",
    "\n",
    "plt.xlabel('Displacement (l)')\n",
    "plt.ylabel('Combined Fuel Eff. (mpg)')"
   ]
  },
  {
   "cell_type": "markdown",
   "metadata": {},
   "source": [
    "> fine-tuning color:  https://stackoverflow.com/questions/20144529/shifted-colorbar-matplotlib"
   ]
  },
  {
   "cell_type": "markdown",
   "metadata": {},
   "source": [
    "### Additional tips"
   ]
  },
  {
   "cell_type": "markdown",
   "metadata": {},
   "source": [
    "**Qualitative** palettes are built for nominal-type data. This is the palette class taken by the default palette."
   ]
  },
  {
   "cell_type": "code",
   "execution_count": 25,
   "metadata": {},
   "outputs": [
    {
     "data": {
      "image/png": "[encoded data removed]",
      "text/plain": [
       "<Figure size 648x72 with 1 Axes>"
      ]
     },
     "metadata": {
      "needs_background": "light"
     },
     "output_type": "display_data"
    }
   ],
   "source": [
    "sb.palplot(sb.color_palette(n_colors=9))"
   ]
  },
  {
   "cell_type": "markdown",
   "metadata": {},
   "source": [
    " In a **sequential** palette, consecutive color values should follow each other systematically. Typically, this follows a light-to-dark trend across a single or small range of hues, where light colors indicate low values and dark colors indicate high values. The default sequential color map, \"viridis\", takes the opposite approach, with dark colors indicating low values, and light values indicating high."
   ]
  },
  {
   "cell_type": "code",
   "execution_count": 26,
   "metadata": {},
   "outputs": [
    {
     "data": {
      "image/png": "[encoded data removed]",
      "text/plain": [
       "<Figure size 648x72 with 1 Axes>"
      ]
     },
     "metadata": {
      "needs_background": "light"
     },
     "output_type": "display_data"
    }
   ],
   "source": [
    "sb.palplot(sb.color_palette('viridis', 9))"
   ]
  },
  {
   "cell_type": "markdown",
   "metadata": {},
   "source": [
    "If there is a **meaningful zero or center value** for the variable, you may want to consider using a diverging palette. In a diverging palette, two sequential palettes with different hues are put back to back, with a common color (usually white or gray) connecting them. One hue indicates values greater than the center point, while the other indicates values smaller than the center."
   ]
  },
  {
   "cell_type": "code",
   "execution_count": 27,
   "metadata": {},
   "outputs": [
    {
     "data": {
      "image/png": "[encoded data removed]",
      "text/plain": [
       "<Figure size 648x72 with 1 Axes>"
      ]
     },
     "metadata": {
      "needs_background": "light"
     },
     "output_type": "display_data"
    }
   ],
   "source": [
    "sb.palplot(sb.color_palette('vlag', 9))"
   ]
  },
  {
   "cell_type": "markdown",
   "metadata": {},
   "source": [
    "---"
   ]
  },
  {
   "cell_type": "markdown",
   "metadata": {},
   "source": [
    "- **Qualitative** (all up to 6 colors): 'deep', 'pastel', 'dark', 'muted', 'bright', 'colorblind'\n",
    "- **Sequential**: 'rocket' (white-orange-red-purple-black), 'mako' (mint-green-blue-purple-black)\n",
    "- **Diverging**: 'vlag' (blue-white-red), 'icefire' (blue-black-orange)\n",
    "\n",
    "For all of these strings, appending **'_r'** reverses the palette, which is useful if a sequential or diverging palette is rendered counter to your expectations."
   ]
  },
  {
   "cell_type": "markdown",
   "metadata": {},
   "source": [
    "https://matplotlib.org/stable/api/pyplot_summary.html"
   ]
  },
  {
   "cell_type": "markdown",
   "metadata": {},
   "source": [
    "## Faceting"
   ]
  },
  {
   "cell_type": "code",
   "execution_count": 28,
   "metadata": {},
   "outputs": [],
   "source": [
    "fuel_econ = pd.read_csv('fuel_econ.csv')\n",
    "fuel_econ['trans_type'] = fuel_econ['trans'].apply(lambda x: x.split()[0])"
   ]
  },
  {
   "cell_type": "code",
   "execution_count": null,
   "metadata": {
    "scrolled": true
   },
   "outputs": [],
   "source": [
    "g = sb.FacetGrid(data = fuel_econ, col = 'VClass')\n",
    "g.map(plt.scatter, 'displ', 'comb');"
   ]
  },
  {
   "cell_type": "code",
   "execution_count": null,
   "metadata": {
    "scrolled": true
   },
   "outputs": [],
   "source": [
    "g = sb.FacetGrid(data = fuel_econ, col = 'VClass', row = 'trans_type', \n",
    "                margin_titles = True)  # margin_titles: align Grids\n",
    "g.map(plt.scatter, 'displ', 'comb');"
   ]
  },
  {
   "cell_type": "code",
   "execution_count": null,
   "metadata": {},
   "outputs": [],
   "source": [
    "g = sb.FacetGrid(data = fuel_econ, col = 'VClass', row = 'trans_type', \n",
    "                margin_titles = True)  # margin_titles: align Grids\n",
    "g.map(sb.boxplot, 'year', 'co2');"
   ]
  },
  {
   "cell_type": "markdown",
   "metadata": {},
   "source": [
    "## Other Adaptations of Bivariate Plots"
   ]
  },
  {
   "cell_type": "markdown",
   "metadata": {},
   "source": [
    "### Pointplot"
   ]
  },
  {
   "cell_type": "code",
   "execution_count": null,
   "metadata": {
    "scrolled": true
   },
   "outputs": [],
   "source": [
    "sb.pointplot(data = fuel_econ, x = 'VClass', y = 'comb', ci = 'sd', linestyles = \"\");\n",
    "plt.xticks(rotation = 15)\n",
    "plt.ylabel('Avg. combined efficiency (mpg)');"
   ]
  },
  {
   "cell_type": "code",
   "execution_count": null,
   "metadata": {},
   "outputs": [],
   "source": [
    "sb.pointplot(data = fuel_econ, x = 'VClass', y = 'comb',\n",
    "             hue = 'trans_type',\n",
    "             ci = 'sd', linestyles = \"\");\n",
    "plt.xticks(rotation = 15)\n",
    "plt.ylabel('Avg. combined efficiency (mpg)');"
   ]
  },
  {
   "cell_type": "code",
   "execution_count": null,
   "metadata": {},
   "outputs": [],
   "source": [
    "sb.pointplot(data = fuel_econ, x = 'VClass', y = 'comb',\n",
    "             hue = 'trans_type',\n",
    "             ci = 'sd', linestyles = \"\",\n",
    "             dodge = True); # off slightly\n",
    "plt.xticks(rotation = 15)\n",
    "plt.ylabel('Avg. combined efficiency (mpg)');"
   ]
  },
  {
   "cell_type": "markdown",
   "metadata": {},
   "source": [
    "### Clustered Bar Chart"
   ]
  },
  {
   "cell_type": "code",
   "execution_count": null,
   "metadata": {},
   "outputs": [],
   "source": [
    "sb.barplot(data = fuel_econ, x = 'VClass', y = 'comb',\n",
    "             hue = 'trans_type',\n",
    "             ci = 'sd');\n",
    "plt.xticks(rotation = 15)\n",
    "plt.ylabel('Avg. combined efficiency (mpg)');"
   ]
  },
  {
   "cell_type": "markdown",
   "metadata": {},
   "source": [
    "### Clustered Box plot"
   ]
  },
  {
   "cell_type": "code",
   "execution_count": null,
   "metadata": {},
   "outputs": [],
   "source": [
    "sb.boxplot(data = fuel_econ, x = 'VClass', y = 'comb',\n",
    "           hue = 'trans_type')\n",
    "             \n",
    "plt.xticks(rotation = 15)\n",
    "plt.ylabel('Avg. combined efficiency (mpg)');"
   ]
  },
  {
   "cell_type": "markdown",
   "metadata": {},
   "source": [
    "### Heatmap"
   ]
  },
  {
   "cell_type": "code",
   "execution_count": null,
   "metadata": {},
   "outputs": [],
   "source": [
    "bins_x = np.arange(0.6, 7.0 + 0.3, 0.3)\n",
    "bins_y = np.arange(12, 58 + 3, 3)\n",
    "\n",
    "plt.hist2d(x = fuel_econ['displ'], y= fuel_econ['comb'], cmin = 0.5,\n",
    "          cmap = 'viridis_r', bins = [bins_x, bins_y]);  # 색상반전\n",
    "\n",
    "plt.colorbar()\n",
    "plt.xlabel('Displacement(l)');\n",
    "plt.ylabel('Combined Fuel Eff. (mpg)');"
   ]
  },
  {
   "cell_type": "markdown",
   "metadata": {},
   "source": [
    "**Set colorbar as co2**\n",
    "\n",
    "1. Figure out in which bin, each point falls\n",
    "2. Count up the number of points that fall in each bin\n",
    "3. CO2 emissions divided by the number of cars in its bin, equal to the average CO2 emissio. (CO2 per a Car)"
   ]
  },
  {
   "cell_type": "code",
   "execution_count": null,
   "metadata": {},
   "outputs": [],
   "source": [
    "fuel_econ['displ']"
   ]
  },
  {
   "cell_type": "code",
   "execution_count": null,
   "metadata": {},
   "outputs": [],
   "source": [
    "bins_x"
   ]
  },
  {
   "cell_type": "code",
   "execution_count": null,
   "metadata": {},
   "outputs": [],
   "source": [
    "# Figure out in which bin, each point falls\n",
    "\n",
    "pd.cut(fuel_econ['displ'], bins_x, right = False, include_lowest = False)"
   ]
  },
  {
   "cell_type": "code",
   "execution_count": null,
   "metadata": {},
   "outputs": [],
   "source": [
    "# Figure out in which bin, each point falls\n",
    "\n",
    "pd.cut(fuel_econ['displ'], bins_x, right = False, include_lowest = False, \n",
    "      labels = False).astype(int)   # Min + Max and round up"
   ]
  },
  {
   "cell_type": "code",
   "execution_count": null,
   "metadata": {},
   "outputs": [],
   "source": [
    "displ_bins = pd.cut(fuel_econ['displ'],\n",
    "                    bins_x,\n",
    "                    right=False,\n",
    "                    include_lowest=False,\n",
    "                    labels=False).astype(int)  # Min + Max and round up\n",
    "\n",
    "comb_bins = pd.cut(fuel_econ['comb'],\n",
    "                   bins_y,\n",
    "                   right=False,\n",
    "                   include_lowest=False,\n",
    "                   labels=False).astype(int)  # Min + Max and round up\n",
    "\n",
    "\n",
    "# Count up the number of points that fall in each bin\n",
    "\n",
    "n_points = fuel_econ.groupby([displ_bins, comb_bins]).size()\n",
    "n_points "
   ]
  },
  {
   "cell_type": "code",
   "execution_count": null,
   "metadata": {},
   "outputs": [],
   "source": [
    "n_points = n_points.reset_index() # Array => DataFrame \n",
    "n_points"
   ]
  },
  {
   "cell_type": "code",
   "execution_count": null,
   "metadata": {
    "scrolled": true
   },
   "outputs": [],
   "source": [
    "n_points = n_points.pivot(index = 'displ', columns = 'comb').values  # DataFrame => Array\n",
    "n_points"
   ]
  },
  {
   "cell_type": "code",
   "execution_count": null,
   "metadata": {},
   "outputs": [],
   "source": [
    "n_points[displ_bins, comb_bins]"
   ]
  },
  {
   "cell_type": "code",
   "execution_count": null,
   "metadata": {},
   "outputs": [],
   "source": [
    "fuel_econ['co2']"
   ]
  },
  {
   "cell_type": "code",
   "execution_count": null,
   "metadata": {},
   "outputs": [],
   "source": [
    "co2_weights = fuel_econ['co2'] / n_points[displ_bins, comb_bins]\n",
    "co2_weights "
   ]
  },
  {
   "cell_type": "code",
   "execution_count": null,
   "metadata": {
    "scrolled": true
   },
   "outputs": [],
   "source": [
    "bins_x = np.arange(0.6, 7.0 + 0.3, 0.3)\n",
    "bins_y = np.arange(12, 58 + 3, 3)\n",
    "\n",
    "# If we want to depict the mean of a third variable in a 2-d histogram, \n",
    "# we need to change the weights of points in the hist2d function \n",
    "# similar to how we changed the weights in the 1-d histogram.\n",
    "\n",
    "plt.hist2d(x = fuel_econ['displ'], y= fuel_econ['comb'], cmin = 0.5,\n",
    "          cmap = 'viridis_r', bins = [bins_x, bins_y], weights = co2_weights);  # co2_weight\n",
    "\n",
    "plt.colorbar(label = 'CO2 (g/mi)');\n",
    "\n",
    "plt.xlabel('Displacement(l)');\n",
    "plt.ylabel('Combined Fuel Eff. (mpg)');"
   ]
  },
  {
   "cell_type": "markdown",
   "metadata": {},
   "source": [
    "## Additional Plot"
   ]
  },
  {
   "cell_type": "markdown",
   "metadata": {},
   "source": [
    "### Plot Matrix"
   ]
  },
  {
   "cell_type": "markdown",
   "metadata": {},
   "source": [
    "If you `look at pairwise visualizations before putting together a trivariate plot`, then you will have a **clear view to how the interaction**, if present, changes your previous understanding of the marginal pairwise relationship."
   ]
  },
  {
   "cell_type": "code",
   "execution_count": null,
   "metadata": {},
   "outputs": [],
   "source": [
    "pokemon = pd.read_csv('pokemon.csv')\n",
    "print(pokemon.shape)\n",
    "pokemon.head()"
   ]
  },
  {
   "cell_type": "code",
   "execution_count": null,
   "metadata": {},
   "outputs": [],
   "source": [
    "pkmn_stats = ['hp', 'attack', 'defense', 'speed', 'special-attack', 'special-defense']\n",
    "g = sb.PairGrid(data = pokemon, vars = pkmn_stats);\n",
    "g.map(plt.scatter);"
   ]
  },
  {
   "cell_type": "code",
   "execution_count": null,
   "metadata": {
    "scrolled": true
   },
   "outputs": [],
   "source": [
    "pkmn_stats = ['hp', 'attack', 'defense', 'speed', 'special-attack', 'special-defense']\n",
    "g = sb.PairGrid(data = pokemon, vars = pkmn_stats);\n",
    "g = g.map_offdiag(plt.scatter);\n",
    "g.map_diag(plt.hist);"
   ]
  },
  {
   "cell_type": "code",
   "execution_count": null,
   "metadata": {},
   "outputs": [],
   "source": [
    "pokemon[pkmn_stats].corr()   # correlation"
   ]
  },
  {
   "cell_type": "code",
   "execution_count": null,
   "metadata": {},
   "outputs": [],
   "source": [
    "sb.heatmap(pokemon[pkmn_stats].corr())   # correlation"
   ]
  },
  {
   "cell_type": "code",
   "execution_count": null,
   "metadata": {},
   "outputs": [],
   "source": [
    "sb.heatmap(pokemon[pkmn_stats].corr(), annot = True); "
   ]
  },
  {
   "cell_type": "code",
   "execution_count": null,
   "metadata": {},
   "outputs": [],
   "source": [
    "sb.heatmap(pokemon[pkmn_stats].corr(),\n",
    "           cmap = 'rocket_r',  # reverse color\n",
    "           annot = True,       # add values in boxes\n",
    "           fmt = '.2f',        # two digits\n",
    "           vmin = 0);          # set lower bound of colormap as zero"
   ]
  },
  {
   "cell_type": "markdown",
   "metadata": {},
   "source": [
    "- **Defense vs Speed** has (-) correlation, while all other pairs have positive correlation.\n",
    "- **Defense vs Special-defense** has a strong correlation. Check if it has any outlier from the `scatter plot`."
   ]
  },
  {
   "cell_type": "code",
   "execution_count": null,
   "metadata": {},
   "outputs": [],
   "source": [
    "# pkmn_stats = ['hp', 'attack', 'defense', 'speed', 'special-attack', 'special-defense']\n",
    "# g = sb.PairGrid(data = pokemon, vars = pkmn_stats);\n",
    "# g.map(sb.violinplot);"
   ]
  },
  {
   "cell_type": "markdown",
   "metadata": {},
   "source": [
    "### Feature Engineering (option)"
   ]
  },
  {
   "cell_type": "markdown",
   "metadata": {},
   "source": [
    " As you explore a dataset, you might find that two variables are related in some way. Feature engineering is all about creating a new variable with a `sum`, `difference`, `product`, or `ratio` between those original variables that may lend a better insight into the research questions you seek to answer."
   ]
  },
  {
   "cell_type": "markdown",
   "metadata": {},
   "source": [
    "For example, if you have one variable that gives a **count of crime incidents, and a second one that gives population totals**, then you may want to engineer a new variable by dividing the former by the latter, obtaining an incident rate. This would account for a possible relationship between the original features where if there are more people, there might naturally be more chances for crimes to occur. If we looked at the raw counts rather than the incident rate, we risk just seeing information about population sizes rather than what we might really want."
   ]
  },
  {
   "cell_type": "code",
   "execution_count": null,
   "metadata": {},
   "outputs": [],
   "source": [
    "pokemon['atk_ratio'] = pokemon['attack'] / pokemon['special-attack']\n",
    "pokemon['def_ratio'] = pokemon['defense'] / pokemon['special-defense']"
   ]
  },
  {
   "cell_type": "markdown",
   "metadata": {},
   "source": [
    "> if, ratio > 0, physically biased. \n",
    "\n",
    "> if, ratio < 0, specially biased. "
   ]
  },
  {
   "cell_type": "code",
   "execution_count": null,
   "metadata": {},
   "outputs": [],
   "source": [
    "plt.scatter(data = pokemon, x = 'atk_ratio', y = 'def_ratio', alpha = 1/3)\n",
    "\n",
    "plt.xlabel('Offensive Bias (Phys/Spec)')\n",
    "plt.ylabel('Defensive Bias (Phys/Spec)')"
   ]
  },
  {
   "cell_type": "code",
   "execution_count": null,
   "metadata": {},
   "outputs": [],
   "source": [
    "plt.scatter(data = pokemon, x = 'atk_ratio', y = 'def_ratio', alpha = 1/3)\n",
    "\n",
    "plt.xlabel('Offensive Bias (Phys/Spec)')\n",
    "plt.ylabel('Defensive Bias (Phys/Spec)')\n",
    "\n",
    "plt.xscale('log')\n",
    "plt.yscale('log')"
   ]
  },
  {
   "cell_type": "code",
   "execution_count": null,
   "metadata": {},
   "outputs": [],
   "source": [
    "plt.scatter(data = pokemon, x = 'atk_ratio', y = 'def_ratio', alpha = 1/3)\n",
    "\n",
    "plt.xlabel('Offensive Bias (Phys/Spec)')\n",
    "plt.ylabel('Defensive Bias (Phys/Spec)')\n",
    "\n",
    "plt.xscale('log')\n",
    "plt.yscale('log')\n",
    "\n",
    "tick_loc = [0.25, 0.5, 1, 2, 4]\n",
    "\n",
    "plt.xticks(tick_loc, tick_loc);\n",
    "plt.yticks(tick_loc, tick_loc);"
   ]
  },
  {
   "cell_type": "code",
   "execution_count": null,
   "metadata": {},
   "outputs": [],
   "source": [
    "plt.scatter(data = pokemon, x = 'atk_ratio', y = 'def_ratio', alpha = 1/3)\n",
    "\n",
    "plt.xlabel('Offensive Bias (Phys/Spec)')\n",
    "plt.ylabel('Defensive Bias (Phys/Spec)')\n",
    "\n",
    "plt.xscale('log')\n",
    "plt.yscale('log')\n",
    "\n",
    "tick_loc = [0.25, 0.5, 1, 2, 4]\n",
    "\n",
    "plt.xticks(tick_loc, tick_loc);\n",
    "plt.yticks(tick_loc, tick_loc);\n",
    "\n",
    "plt.xlim(2 ** -2.5, 2 ** 2.5)\n",
    "plt.ylim(2 ** -2.5, 2 ** 2.5);   # remove outliers"
   ]
  },
  {
   "cell_type": "markdown",
   "metadata": {},
   "source": [
    "Interesting;y, there appears to be a large number of Pokemon on the Y equals 1 line showing **no defensive bias**, but these pokemons have **a wide range of offensive biases**. "
   ]
  },
  {
   "cell_type": "code",
   "execution_count": null,
   "metadata": {},
   "outputs": [],
   "source": []
  },
  {
   "cell_type": "code",
   "execution_count": null,
   "metadata": {},
   "outputs": [],
   "source": []
  }
 ],
 "metadata": {
  "kernelspec": {
   "display_name": "Python 3",
   "language": "python",
   "name": "python3"
  },
  "language_info": {
   "codemirror_mode": {
    "name": "ipython",
    "version": 3
   },
   "file_extension": ".py",
   "mimetype": "text/x-python",
   "name": "python",
   "nbconvert_exporter": "python",
   "pygments_lexer": "ipython3",
   "version": "3.8.5"
  },
  "toc": {
   "base_numbering": 1,
   "nav_menu": {},
   "number_sections": true,
   "sideBar": true,
   "skip_h1_title": false,
   "title_cell": "Table of Contents",
   "title_sidebar": "Contents",
   "toc_cell": false,
   "toc_position": {
    "height": "calc(100% - 180px)",
    "left": "10px",
    "top": "150px",
    "width": "250px"
   },
   "toc_section_display": true,
   "toc_window_display": false
  },
  "varInspector": {
   "cols": {
    "lenName": 16,
    "lenType": 16,
    "lenVar": 40
   },
   "kernels_config": {
    "python": {
     "delete_cmd_postfix": "",
     "delete_cmd_prefix": "del ",
     "library": "var_list.py",
     "varRefreshCmd": "print(var_dic_list())"
    },
    "r": {
     "delete_cmd_postfix": ") ",
     "delete_cmd_prefix": "rm(",
     "library": "var_list.r",
     "varRefreshCmd": "cat(var_dic_list()) "
    }
   },
   "position": {
    "height": "144.667px",
    "left": "910px",
    "right": "20px",
    "top": "121px",
    "width": "350px"
   },
   "types_to_exclude": [
    "module",
    "function",
    "builtin_function_or_method",
    "instance",
    "_Feature"
   ],
   "window_display": false
  }
 },
 "nbformat": 4,
 "nbformat_minor": 4
}
